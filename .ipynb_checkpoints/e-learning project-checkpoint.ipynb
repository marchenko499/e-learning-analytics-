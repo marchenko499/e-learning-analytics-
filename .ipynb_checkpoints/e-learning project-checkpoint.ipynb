{
 "cells": [
  {
   "cell_type": "code",
   "execution_count": 1,
   "metadata": {},
   "outputs": [],
   "source": [
    "#Импортирую библиотеки\n",
    "import pandas as pd\n",
    "import numpy as np\n",
    "import seaborn as sns\n",
    "from matplotlib import pyplot as plt"
   ]
  },
  {
   "cell_type": "code",
   "execution_count": 2,
   "metadata": {},
   "outputs": [],
   "source": [
    "#Считываю данные\n",
    "assessments = pd.read_csv('assessments.csv')\n",
    "courses = pd.read_csv('courses.csv')\n",
    "studentAssessment = pd.read_csv('studentAssessment.csv')\n",
    "studentRegistration = pd.read_csv('studentRegistration.csv')"
   ]
  },
  {
   "cell_type": "code",
   "execution_count": 3,
   "metadata": {},
   "outputs": [
    {
     "data": {
      "text/plain": [
       "(173912, 5)"
      ]
     },
     "execution_count": 3,
     "metadata": {},
     "output_type": "execute_result"
    }
   ],
   "source": [
    "\n",
    "studentAssessment.shape"
   ]
  },
  {
   "cell_type": "code",
   "execution_count": 4,
   "metadata": {},
   "outputs": [
    {
     "data": {
      "text/plain": [
       "(206, 6)"
      ]
     },
     "execution_count": 4,
     "metadata": {},
     "output_type": "execute_result"
    }
   ],
   "source": [
    "assessments.shape"
   ]
  },
  {
   "cell_type": "code",
   "execution_count": 5,
   "metadata": {},
   "outputs": [
    {
     "data": {
      "text/plain": [
       "id_assessment       0\n",
       "id_student          0\n",
       "date_submitted      0\n",
       "is_banked           0\n",
       "score             173\n",
       "dtype: int64"
      ]
     },
     "execution_count": 5,
     "metadata": {},
     "output_type": "execute_result"
    }
   ],
   "source": [
    "#Всего 173 null значения в оценках из 173912, не так много.\n",
    "studentAssessment.isnull().sum()"
   ]
  },
  {
   "cell_type": "code",
   "execution_count": 6,
   "metadata": {},
   "outputs": [],
   "source": [
    "#Нужно сджоинить таблицу с информацией об оценках в тесте с информацией о результатах тестирования студентов\n",
    "full_assessment = studentAssessment.merge(assessments, how = 'left', on = 'id_assessment')"
   ]
  },
  {
   "cell_type": "code",
   "execution_count": 7,
   "metadata": {},
   "outputs": [
    {
     "data": {
      "text/plain": [
       "id_assessment           0\n",
       "id_student              0\n",
       "date_submitted          0\n",
       "is_banked               0\n",
       "score                 173\n",
       "code_module             0\n",
       "code_presentation       0\n",
       "assessment_type         0\n",
       "date                 2865\n",
       "weight                  0\n",
       "dtype: int64"
      ]
     },
     "execution_count": 7,
     "metadata": {},
     "output_type": "execute_result"
    }
   ],
   "source": [
    "full_assessment.isnull().sum()"
   ]
  },
  {
   "cell_type": "code",
   "execution_count": 8,
   "metadata": {},
   "outputs": [
    {
     "data": {
      "text/plain": [
       "code_module           0\n",
       "code_presentation     0\n",
       "id_assessment         0\n",
       "assessment_type       0\n",
       "date                 11\n",
       "weight                0\n",
       "dtype: int64"
      ]
     },
     "execution_count": 8,
     "metadata": {},
     "output_type": "execute_result"
    }
   ],
   "source": [
    "assessments.isnull().sum()"
   ]
  },
  {
   "cell_type": "code",
   "execution_count": 9,
   "metadata": {},
   "outputs": [
    {
     "data": {
      "text/html": [
       "<div>\n",
       "<style scoped>\n",
       "    .dataframe tbody tr th:only-of-type {\n",
       "        vertical-align: middle;\n",
       "    }\n",
       "\n",
       "    .dataframe tbody tr th {\n",
       "        vertical-align: top;\n",
       "    }\n",
       "\n",
       "    .dataframe thead th {\n",
       "        text-align: right;\n",
       "    }\n",
       "</style>\n",
       "<table border=\"1\" class=\"dataframe\">\n",
       "  <thead>\n",
       "    <tr style=\"text-align: right;\">\n",
       "      <th></th>\n",
       "      <th>id_assessment</th>\n",
       "      <th>id_student</th>\n",
       "      <th>date_submitted</th>\n",
       "      <th>is_banked</th>\n",
       "      <th>score</th>\n",
       "      <th>code_module</th>\n",
       "      <th>code_presentation</th>\n",
       "      <th>assessment_type</th>\n",
       "      <th>date</th>\n",
       "      <th>weight</th>\n",
       "    </tr>\n",
       "  </thead>\n",
       "  <tbody>\n",
       "    <tr>\n",
       "      <th>0</th>\n",
       "      <td>1752</td>\n",
       "      <td>11391</td>\n",
       "      <td>18</td>\n",
       "      <td>0</td>\n",
       "      <td>78.0</td>\n",
       "      <td>AAA</td>\n",
       "      <td>2013J</td>\n",
       "      <td>TMA</td>\n",
       "      <td>19.0</td>\n",
       "      <td>10.0</td>\n",
       "    </tr>\n",
       "    <tr>\n",
       "      <th>1</th>\n",
       "      <td>1752</td>\n",
       "      <td>28400</td>\n",
       "      <td>22</td>\n",
       "      <td>0</td>\n",
       "      <td>70.0</td>\n",
       "      <td>AAA</td>\n",
       "      <td>2013J</td>\n",
       "      <td>TMA</td>\n",
       "      <td>19.0</td>\n",
       "      <td>10.0</td>\n",
       "    </tr>\n",
       "    <tr>\n",
       "      <th>2</th>\n",
       "      <td>1752</td>\n",
       "      <td>31604</td>\n",
       "      <td>17</td>\n",
       "      <td>0</td>\n",
       "      <td>72.0</td>\n",
       "      <td>AAA</td>\n",
       "      <td>2013J</td>\n",
       "      <td>TMA</td>\n",
       "      <td>19.0</td>\n",
       "      <td>10.0</td>\n",
       "    </tr>\n",
       "    <tr>\n",
       "      <th>3</th>\n",
       "      <td>1752</td>\n",
       "      <td>32885</td>\n",
       "      <td>26</td>\n",
       "      <td>0</td>\n",
       "      <td>69.0</td>\n",
       "      <td>AAA</td>\n",
       "      <td>2013J</td>\n",
       "      <td>TMA</td>\n",
       "      <td>19.0</td>\n",
       "      <td>10.0</td>\n",
       "    </tr>\n",
       "    <tr>\n",
       "      <th>4</th>\n",
       "      <td>1752</td>\n",
       "      <td>38053</td>\n",
       "      <td>19</td>\n",
       "      <td>0</td>\n",
       "      <td>79.0</td>\n",
       "      <td>AAA</td>\n",
       "      <td>2013J</td>\n",
       "      <td>TMA</td>\n",
       "      <td>19.0</td>\n",
       "      <td>10.0</td>\n",
       "    </tr>\n",
       "  </tbody>\n",
       "</table>\n",
       "</div>"
      ],
      "text/plain": [
       "   id_assessment  id_student  date_submitted  is_banked  score code_module  \\\n",
       "0           1752       11391              18          0   78.0         AAA   \n",
       "1           1752       28400              22          0   70.0         AAA   \n",
       "2           1752       31604              17          0   72.0         AAA   \n",
       "3           1752       32885              26          0   69.0         AAA   \n",
       "4           1752       38053              19          0   79.0         AAA   \n",
       "\n",
       "  code_presentation assessment_type  date  weight  \n",
       "0             2013J             TMA  19.0    10.0  \n",
       "1             2013J             TMA  19.0    10.0  \n",
       "2             2013J             TMA  19.0    10.0  \n",
       "3             2013J             TMA  19.0    10.0  \n",
       "4             2013J             TMA  19.0    10.0  "
      ]
     },
     "execution_count": 9,
     "metadata": {},
     "output_type": "execute_result"
    }
   ],
   "source": [
    "full_assessment.head()"
   ]
  },
  {
   "cell_type": "code",
   "execution_count": 10,
   "metadata": {},
   "outputs": [
    {
     "data": {
      "text/html": [
       "<div>\n",
       "<style scoped>\n",
       "    .dataframe tbody tr th:only-of-type {\n",
       "        vertical-align: middle;\n",
       "    }\n",
       "\n",
       "    .dataframe tbody tr th {\n",
       "        vertical-align: top;\n",
       "    }\n",
       "\n",
       "    .dataframe thead th {\n",
       "        text-align: right;\n",
       "    }\n",
       "</style>\n",
       "<table border=\"1\" class=\"dataframe\">\n",
       "  <thead>\n",
       "    <tr style=\"text-align: right;\">\n",
       "      <th></th>\n",
       "      <th>id_assessment</th>\n",
       "      <th>id_student</th>\n",
       "      <th>date_submitted</th>\n",
       "      <th>is_banked</th>\n",
       "      <th>score</th>\n",
       "      <th>code_module</th>\n",
       "      <th>code_presentation</th>\n",
       "      <th>assessment_type</th>\n",
       "      <th>date</th>\n",
       "      <th>weight</th>\n",
       "    </tr>\n",
       "  </thead>\n",
       "  <tbody>\n",
       "    <tr>\n",
       "      <th>52923</th>\n",
       "      <td>24290</td>\n",
       "      <td>558914</td>\n",
       "      <td>230</td>\n",
       "      <td>0</td>\n",
       "      <td>32.0</td>\n",
       "      <td>CCC</td>\n",
       "      <td>2014B</td>\n",
       "      <td>Exam</td>\n",
       "      <td>NaN</td>\n",
       "      <td>100.0</td>\n",
       "    </tr>\n",
       "    <tr>\n",
       "      <th>52924</th>\n",
       "      <td>24290</td>\n",
       "      <td>559706</td>\n",
       "      <td>234</td>\n",
       "      <td>0</td>\n",
       "      <td>78.0</td>\n",
       "      <td>CCC</td>\n",
       "      <td>2014B</td>\n",
       "      <td>Exam</td>\n",
       "      <td>NaN</td>\n",
       "      <td>100.0</td>\n",
       "    </tr>\n",
       "    <tr>\n",
       "      <th>52925</th>\n",
       "      <td>24290</td>\n",
       "      <td>559770</td>\n",
       "      <td>230</td>\n",
       "      <td>0</td>\n",
       "      <td>54.0</td>\n",
       "      <td>CCC</td>\n",
       "      <td>2014B</td>\n",
       "      <td>Exam</td>\n",
       "      <td>NaN</td>\n",
       "      <td>100.0</td>\n",
       "    </tr>\n",
       "    <tr>\n",
       "      <th>52926</th>\n",
       "      <td>24290</td>\n",
       "      <td>560114</td>\n",
       "      <td>230</td>\n",
       "      <td>0</td>\n",
       "      <td>64.0</td>\n",
       "      <td>CCC</td>\n",
       "      <td>2014B</td>\n",
       "      <td>Exam</td>\n",
       "      <td>NaN</td>\n",
       "      <td>100.0</td>\n",
       "    </tr>\n",
       "    <tr>\n",
       "      <th>52927</th>\n",
       "      <td>24290</td>\n",
       "      <td>560311</td>\n",
       "      <td>234</td>\n",
       "      <td>0</td>\n",
       "      <td>100.0</td>\n",
       "      <td>CCC</td>\n",
       "      <td>2014B</td>\n",
       "      <td>Exam</td>\n",
       "      <td>NaN</td>\n",
       "      <td>100.0</td>\n",
       "    </tr>\n",
       "    <tr>\n",
       "      <th>...</th>\n",
       "      <td>...</td>\n",
       "      <td>...</td>\n",
       "      <td>...</td>\n",
       "      <td>...</td>\n",
       "      <td>...</td>\n",
       "      <td>...</td>\n",
       "      <td>...</td>\n",
       "      <td>...</td>\n",
       "      <td>...</td>\n",
       "      <td>...</td>\n",
       "    </tr>\n",
       "    <tr>\n",
       "      <th>95980</th>\n",
       "      <td>25368</td>\n",
       "      <td>652680</td>\n",
       "      <td>243</td>\n",
       "      <td>0</td>\n",
       "      <td>91.0</td>\n",
       "      <td>DDD</td>\n",
       "      <td>2014J</td>\n",
       "      <td>Exam</td>\n",
       "      <td>NaN</td>\n",
       "      <td>100.0</td>\n",
       "    </tr>\n",
       "    <tr>\n",
       "      <th>95981</th>\n",
       "      <td>25368</td>\n",
       "      <td>652732</td>\n",
       "      <td>249</td>\n",
       "      <td>0</td>\n",
       "      <td>47.0</td>\n",
       "      <td>DDD</td>\n",
       "      <td>2014J</td>\n",
       "      <td>Exam</td>\n",
       "      <td>NaN</td>\n",
       "      <td>100.0</td>\n",
       "    </tr>\n",
       "    <tr>\n",
       "      <th>95982</th>\n",
       "      <td>25368</td>\n",
       "      <td>652965</td>\n",
       "      <td>242</td>\n",
       "      <td>0</td>\n",
       "      <td>87.0</td>\n",
       "      <td>DDD</td>\n",
       "      <td>2014J</td>\n",
       "      <td>Exam</td>\n",
       "      <td>NaN</td>\n",
       "      <td>100.0</td>\n",
       "    </tr>\n",
       "    <tr>\n",
       "      <th>95983</th>\n",
       "      <td>25368</td>\n",
       "      <td>653051</td>\n",
       "      <td>242</td>\n",
       "      <td>0</td>\n",
       "      <td>27.0</td>\n",
       "      <td>DDD</td>\n",
       "      <td>2014J</td>\n",
       "      <td>Exam</td>\n",
       "      <td>NaN</td>\n",
       "      <td>100.0</td>\n",
       "    </tr>\n",
       "    <tr>\n",
       "      <th>95984</th>\n",
       "      <td>25368</td>\n",
       "      <td>653319</td>\n",
       "      <td>250</td>\n",
       "      <td>0</td>\n",
       "      <td>64.0</td>\n",
       "      <td>DDD</td>\n",
       "      <td>2014J</td>\n",
       "      <td>Exam</td>\n",
       "      <td>NaN</td>\n",
       "      <td>100.0</td>\n",
       "    </tr>\n",
       "  </tbody>\n",
       "</table>\n",
       "<p>4959 rows × 10 columns</p>\n",
       "</div>"
      ],
      "text/plain": [
       "       id_assessment  id_student  date_submitted  is_banked  score  \\\n",
       "52923          24290      558914             230          0   32.0   \n",
       "52924          24290      559706             234          0   78.0   \n",
       "52925          24290      559770             230          0   54.0   \n",
       "52926          24290      560114             230          0   64.0   \n",
       "52927          24290      560311             234          0  100.0   \n",
       "...              ...         ...             ...        ...    ...   \n",
       "95980          25368      652680             243          0   91.0   \n",
       "95981          25368      652732             249          0   47.0   \n",
       "95982          25368      652965             242          0   87.0   \n",
       "95983          25368      653051             242          0   27.0   \n",
       "95984          25368      653319             250          0   64.0   \n",
       "\n",
       "      code_module code_presentation assessment_type  date  weight  \n",
       "52923         CCC             2014B            Exam   NaN   100.0  \n",
       "52924         CCC             2014B            Exam   NaN   100.0  \n",
       "52925         CCC             2014B            Exam   NaN   100.0  \n",
       "52926         CCC             2014B            Exam   NaN   100.0  \n",
       "52927         CCC             2014B            Exam   NaN   100.0  \n",
       "...           ...               ...             ...   ...     ...  \n",
       "95980         DDD             2014J            Exam   NaN   100.0  \n",
       "95981         DDD             2014J            Exam   NaN   100.0  \n",
       "95982         DDD             2014J            Exam   NaN   100.0  \n",
       "95983         DDD             2014J            Exam   NaN   100.0  \n",
       "95984         DDD             2014J            Exam   NaN   100.0  \n",
       "\n",
       "[4959 rows x 10 columns]"
      ]
     },
     "execution_count": 10,
     "metadata": {},
     "output_type": "execute_result"
    }
   ],
   "source": [
    "full_assessment.query(\"assessment_type == 'Exam'\")"
   ]
  },
  {
   "cell_type": "code",
   "execution_count": 11,
   "metadata": {},
   "outputs": [],
   "source": [
    "#Посмотрю на то, какое количество студентов завершило модули\n",
    "completed_modules = (full_assessment.query(\"assessment_type == 'Exam' and score >= 40\")\n",
    "                                   .groupby('code_module', as_index = False)\n",
    "                                   .agg(students = ('id_student', 'nunique'))\n",
    "                                   .sort_values('students', ascending = False))"
   ]
  },
  {
   "cell_type": "code",
   "execution_count": 12,
   "metadata": {},
   "outputs": [
    {
     "data": {
      "text/html": [
       "<div>\n",
       "<style scoped>\n",
       "    .dataframe tbody tr th:only-of-type {\n",
       "        vertical-align: middle;\n",
       "    }\n",
       "\n",
       "    .dataframe tbody tr th {\n",
       "        vertical-align: top;\n",
       "    }\n",
       "\n",
       "    .dataframe thead th {\n",
       "        text-align: right;\n",
       "    }\n",
       "</style>\n",
       "<table border=\"1\" class=\"dataframe\">\n",
       "  <thead>\n",
       "    <tr style=\"text-align: right;\">\n",
       "      <th></th>\n",
       "      <th>code_module</th>\n",
       "      <th>students</th>\n",
       "    </tr>\n",
       "  </thead>\n",
       "  <tbody>\n",
       "    <tr>\n",
       "      <th>1</th>\n",
       "      <td>DDD</td>\n",
       "      <td>2706</td>\n",
       "    </tr>\n",
       "    <tr>\n",
       "      <th>0</th>\n",
       "      <td>CCC</td>\n",
       "      <td>1683</td>\n",
       "    </tr>\n",
       "  </tbody>\n",
       "</table>\n",
       "</div>"
      ],
      "text/plain": [
       "  code_module  students\n",
       "1         DDD      2706\n",
       "0         CCC      1683"
      ]
     },
     "execution_count": 12,
     "metadata": {},
     "output_type": "execute_result"
    }
   ],
   "source": [
    "#Можно увидеть, что есть всего 2 модуля c экзаменами. DDD успешно закончило 2706 студентов, CCC - 1683\n",
    "completed_modules.head()"
   ]
  },
  {
   "cell_type": "code",
   "execution_count": 13,
   "metadata": {},
   "outputs": [],
   "source": [
    "#Посмотрю на то, какое количество студентов поступило на модуль\n",
    "students_count = (full_assessment.query(\"assessment_type == 'Exam'\")\n",
    "                                   .groupby('code_module', as_index = False)\n",
    "                                   .agg(all_students = ('id_student', 'nunique'))\n",
    "                                   .sort_values('all_students', ascending = False))"
   ]
  },
  {
   "cell_type": "code",
   "execution_count": 14,
   "metadata": {},
   "outputs": [
    {
     "data": {
      "text/html": [
       "<div>\n",
       "<style scoped>\n",
       "    .dataframe tbody tr th:only-of-type {\n",
       "        vertical-align: middle;\n",
       "    }\n",
       "\n",
       "    .dataframe tbody tr th {\n",
       "        vertical-align: top;\n",
       "    }\n",
       "\n",
       "    .dataframe thead th {\n",
       "        text-align: right;\n",
       "    }\n",
       "</style>\n",
       "<table border=\"1\" class=\"dataframe\">\n",
       "  <thead>\n",
       "    <tr style=\"text-align: right;\">\n",
       "      <th></th>\n",
       "      <th>code_module</th>\n",
       "      <th>all_students</th>\n",
       "    </tr>\n",
       "  </thead>\n",
       "  <tbody>\n",
       "    <tr>\n",
       "      <th>1</th>\n",
       "      <td>DDD</td>\n",
       "      <td>3040</td>\n",
       "    </tr>\n",
       "    <tr>\n",
       "      <th>0</th>\n",
       "      <td>CCC</td>\n",
       "      <td>1915</td>\n",
       "    </tr>\n",
       "  </tbody>\n",
       "</table>\n",
       "</div>"
      ],
      "text/plain": [
       "  code_module  all_students\n",
       "1         DDD          3040\n",
       "0         CCC          1915"
      ]
     },
     "execution_count": 14,
     "metadata": {},
     "output_type": "execute_result"
    }
   ],
   "source": [
    "students_count.head()"
   ]
  },
  {
   "cell_type": "code",
   "execution_count": 15,
   "metadata": {},
   "outputs": [
    {
     "data": {
      "text/html": [
       "<div>\n",
       "<style scoped>\n",
       "    .dataframe tbody tr th:only-of-type {\n",
       "        vertical-align: middle;\n",
       "    }\n",
       "\n",
       "    .dataframe tbody tr th {\n",
       "        vertical-align: top;\n",
       "    }\n",
       "\n",
       "    .dataframe thead th {\n",
       "        text-align: right;\n",
       "    }\n",
       "</style>\n",
       "<table border=\"1\" class=\"dataframe\">\n",
       "  <thead>\n",
       "    <tr style=\"text-align: right;\">\n",
       "      <th></th>\n",
       "      <th>code_module</th>\n",
       "      <th>students</th>\n",
       "      <th>all_students</th>\n",
       "      <th>successful_percent</th>\n",
       "    </tr>\n",
       "  </thead>\n",
       "  <tbody>\n",
       "    <tr>\n",
       "      <th>0</th>\n",
       "      <td>DDD</td>\n",
       "      <td>2706</td>\n",
       "      <td>3040</td>\n",
       "      <td>89.013158</td>\n",
       "    </tr>\n",
       "    <tr>\n",
       "      <th>1</th>\n",
       "      <td>CCC</td>\n",
       "      <td>1683</td>\n",
       "      <td>1915</td>\n",
       "      <td>87.885117</td>\n",
       "    </tr>\n",
       "  </tbody>\n",
       "</table>\n",
       "</div>"
      ],
      "text/plain": [
       "  code_module  students  all_students  successful_percent\n",
       "0         DDD      2706          3040           89.013158\n",
       "1         CCC      1683          1915           87.885117"
      ]
     },
     "execution_count": 15,
     "metadata": {},
     "output_type": "execute_result"
    }
   ],
   "source": [
    "#Теперь создам дф, в котором посмотрю на то, какой процент людей успешно сдали модуль.\n",
    "exam_df = completed_modules.merge(students_count, how = 'left', on = 'code_module')\n",
    "exam_df['successful_percent'] = (exam_df.students*100)/exam_df.all_students\n",
    "exam_df.head()"
   ]
  },
  {
   "cell_type": "markdown",
   "metadata": {},
   "source": [
    "Можно заметить, что большинство студентов успешно завершают модуль."
   ]
  },
  {
   "cell_type": "code",
   "execution_count": 16,
   "metadata": {},
   "outputs": [],
   "source": [
    "#Теперь хочется понять какое количество тестов в семестре с разбивкой по предмету(модулю). \n",
    "\n",
    "assessments_count = (full_assessment.query(\"assessment_type !='Exam'\") #Исключу экзамены, посмотрю только промежуточные\n",
    "                                   .groupby(['code_presentation', 'code_module'],as_index = False)\n",
    "                                   .agg(assessments_count = ('id_assessment', 'nunique'))\n",
    "                                   .sort_values('assessments_count', ascending = False))"
   ]
  },
  {
   "cell_type": "code",
   "execution_count": 17,
   "metadata": {},
   "outputs": [
    {
     "data": {
      "text/html": [
       "<div>\n",
       "<style scoped>\n",
       "    .dataframe tbody tr th:only-of-type {\n",
       "        vertical-align: middle;\n",
       "    }\n",
       "\n",
       "    .dataframe tbody tr th {\n",
       "        vertical-align: top;\n",
       "    }\n",
       "\n",
       "    .dataframe thead th {\n",
       "        text-align: right;\n",
       "    }\n",
       "</style>\n",
       "<table border=\"1\" class=\"dataframe\">\n",
       "  <thead>\n",
       "    <tr style=\"text-align: right;\">\n",
       "      <th></th>\n",
       "      <th>code_presentation</th>\n",
       "      <th>code_module</th>\n",
       "      <th>assessments_count</th>\n",
       "    </tr>\n",
       "  </thead>\n",
       "  <tbody>\n",
       "    <tr>\n",
       "      <th>1</th>\n",
       "      <td>2013B</td>\n",
       "      <td>DDD</td>\n",
       "      <td>13</td>\n",
       "    </tr>\n",
       "    <tr>\n",
       "      <th>2</th>\n",
       "      <td>2013B</td>\n",
       "      <td>FFF</td>\n",
       "      <td>12</td>\n",
       "    </tr>\n",
       "    <tr>\n",
       "      <th>20</th>\n",
       "      <td>2014J</td>\n",
       "      <td>FFF</td>\n",
       "      <td>12</td>\n",
       "    </tr>\n",
       "    <tr>\n",
       "      <th>13</th>\n",
       "      <td>2014B</td>\n",
       "      <td>FFF</td>\n",
       "      <td>12</td>\n",
       "    </tr>\n",
       "    <tr>\n",
       "      <th>7</th>\n",
       "      <td>2013J</td>\n",
       "      <td>FFF</td>\n",
       "      <td>12</td>\n",
       "    </tr>\n",
       "  </tbody>\n",
       "</table>\n",
       "</div>"
      ],
      "text/plain": [
       "   code_presentation code_module  assessments_count\n",
       "1              2013B         DDD                 13\n",
       "2              2013B         FFF                 12\n",
       "20             2014J         FFF                 12\n",
       "13             2014B         FFF                 12\n",
       "7              2013J         FFF                 12"
      ]
     },
     "execution_count": 17,
     "metadata": {},
     "output_type": "execute_result"
    }
   ],
   "source": [
    "assessments_count.head()"
   ]
  },
  {
   "cell_type": "code",
   "execution_count": 18,
   "metadata": {},
   "outputs": [
    {
     "data": {
      "text/plain": [
       "<matplotlib.axes._subplots.AxesSubplot at 0x7f5a50a35048>"
      ]
     },
     "execution_count": 18,
     "metadata": {},
     "output_type": "execute_result"
    },
    {
     "data": {
      "image/png": "[encoded data removed]",
      "text/plain": [
       "<Figure size 842.4x595.44 with 1 Axes>"
      ]
     },
     "metadata": {},
     "output_type": "display_data"
    }
   ],
   "source": [
    "#Визуализирую полученную информацию\n",
    "sns.set(rc={'figure.figsize':(11.7,8.27)})\n",
    "sns.barplot(data = assessments_count,x = 'code_presentation', y = 'assessments_count', hue = 'code_module')"
   ]
  },
  {
   "cell_type": "markdown",
   "metadata": {},
   "source": [
    "Можно заметить, что количество тестов по разным предметам по семестрам различается. Какие-то предметы (Например, DDD) являются базовыми и находятся во всех семестрах, какие-то предметы есть только в определенных семестрах. Выяснилось, что экзамены есть только в двух предметах (DDD, CCC)"
   ]
  },
  {
   "cell_type": "code",
   "execution_count": 19,
   "metadata": {},
   "outputs": [
    {
     "data": {
      "text/html": [
       "<div>\n",
       "<style scoped>\n",
       "    .dataframe tbody tr th:only-of-type {\n",
       "        vertical-align: middle;\n",
       "    }\n",
       "\n",
       "    .dataframe tbody tr th {\n",
       "        vertical-align: top;\n",
       "    }\n",
       "\n",
       "    .dataframe thead th {\n",
       "        text-align: right;\n",
       "    }\n",
       "</style>\n",
       "<table border=\"1\" class=\"dataframe\">\n",
       "  <thead>\n",
       "    <tr style=\"text-align: right;\">\n",
       "      <th></th>\n",
       "      <th>code_presentation</th>\n",
       "      <th>num_students</th>\n",
       "    </tr>\n",
       "  </thead>\n",
       "  <tbody>\n",
       "    <tr>\n",
       "      <th>3</th>\n",
       "      <td>2014J</td>\n",
       "      <td>8613</td>\n",
       "    </tr>\n",
       "    <tr>\n",
       "      <th>1</th>\n",
       "      <td>2013J</td>\n",
       "      <td>7098</td>\n",
       "    </tr>\n",
       "    <tr>\n",
       "      <th>2</th>\n",
       "      <td>2014B</td>\n",
       "      <td>5748</td>\n",
       "    </tr>\n",
       "    <tr>\n",
       "      <th>0</th>\n",
       "      <td>2013B</td>\n",
       "      <td>3803</td>\n",
       "    </tr>\n",
       "  </tbody>\n",
       "</table>\n",
       "</div>"
      ],
      "text/plain": [
       "  code_presentation  num_students\n",
       "3             2014J          8613\n",
       "1             2013J          7098\n",
       "2             2014B          5748\n",
       "0             2013B          3803"
      ]
     },
     "execution_count": 19,
     "metadata": {},
     "output_type": "execute_result"
    }
   ],
   "source": [
    "#Теперь посмотрю на количество студентов по семестрам. Таким образом я попытаюсь сгруппировать семестры в курс.\n",
    "\n",
    "students_by_semester = (full_assessment.groupby('code_presentation', as_index = False)\n",
    "                                       .agg(num_students = ('id_student', 'nunique'))\n",
    "                                       .sort_values('num_students', ascending = False))\n",
    "\n",
    "\n",
    "students_by_semester.head().head()"
   ]
  },
  {
   "cell_type": "code",
   "execution_count": 20,
   "metadata": {},
   "outputs": [
    {
     "data": {
      "text/plain": [
       "<matplotlib.axes._subplots.AxesSubplot at 0x7f5a508f0d68>"
      ]
     },
     "execution_count": 20,
     "metadata": {},
     "output_type": "execute_result"
    },
    {
     "data": {
      "image/png": "[encoded data removed]",
      "text/plain": [
       "<Figure size 842.4x595.44 with 1 Axes>"
      ]
     },
     "metadata": {},
     "output_type": "display_data"
    }
   ],
   "source": [
    "sns.barplot(data = students_by_semester, x = 'code_presentation', y = 'num_students')"
   ]
  },
  {
   "cell_type": "code",
   "execution_count": 21,
   "metadata": {},
   "outputs": [
    {
     "data": {
      "text/html": [
       "<div>\n",
       "<style scoped>\n",
       "    .dataframe tbody tr th:only-of-type {\n",
       "        vertical-align: middle;\n",
       "    }\n",
       "\n",
       "    .dataframe tbody tr th {\n",
       "        vertical-align: top;\n",
       "    }\n",
       "\n",
       "    .dataframe thead th {\n",
       "        text-align: right;\n",
       "    }\n",
       "</style>\n",
       "<table border=\"1\" class=\"dataframe\">\n",
       "  <thead>\n",
       "    <tr style=\"text-align: right;\">\n",
       "      <th></th>\n",
       "      <th>code_presentation</th>\n",
       "      <th>code_module</th>\n",
       "      <th>num_students</th>\n",
       "    </tr>\n",
       "  </thead>\n",
       "  <tbody>\n",
       "    <tr>\n",
       "      <th>17</th>\n",
       "      <td>2014J</td>\n",
       "      <td>CCC</td>\n",
       "      <td>1998</td>\n",
       "    </tr>\n",
       "    <tr>\n",
       "      <th>7</th>\n",
       "      <td>2013J</td>\n",
       "      <td>FFF</td>\n",
       "      <td>1874</td>\n",
       "    </tr>\n",
       "    <tr>\n",
       "      <th>20</th>\n",
       "      <td>2014J</td>\n",
       "      <td>FFF</td>\n",
       "      <td>1843</td>\n",
       "    </tr>\n",
       "    <tr>\n",
       "      <th>16</th>\n",
       "      <td>2014J</td>\n",
       "      <td>BBB</td>\n",
       "      <td>1793</td>\n",
       "    </tr>\n",
       "    <tr>\n",
       "      <th>4</th>\n",
       "      <td>2013J</td>\n",
       "      <td>BBB</td>\n",
       "      <td>1710</td>\n",
       "    </tr>\n",
       "  </tbody>\n",
       "</table>\n",
       "</div>"
      ],
      "text/plain": [
       "   code_presentation code_module  num_students\n",
       "17             2014J         CCC          1998\n",
       "7              2013J         FFF          1874\n",
       "20             2014J         FFF          1843\n",
       "16             2014J         BBB          1793\n",
       "4              2013J         BBB          1710"
      ]
     },
     "execution_count": 21,
     "metadata": {},
     "output_type": "execute_result"
    }
   ],
   "source": [
    "#Теперь посмотрю на количество студентов по семестрам. Таким образом я попытаюсь сгруппировать семестры в курс.\n",
    "\n",
    "students_by_semester_and_module = (full_assessment.groupby(['code_presentation','code_module'], as_index = False)\n",
    "                                       .agg(num_students = ('id_student', 'nunique'))\n",
    "                                       .sort_values('num_students', ascending = False))\n",
    "\n",
    "\n",
    "students_by_semester_and_module.head()"
   ]
  },
  {
   "cell_type": "code",
   "execution_count": 44,
   "metadata": {},
   "outputs": [
    {
     "data": {
      "text/plain": [
       "<matplotlib.axes._subplots.AxesSubplot at 0x7f5a4caedac8>"
      ]
     },
     "execution_count": 44,
     "metadata": {},
     "output_type": "execute_result"
    },
    {
     "data": {
      "image/png": "[encoded data removed]",
      "text/plain": [
       "<Figure size 842.4x595.44 with 1 Axes>"
      ]
     },
     "metadata": {},
     "output_type": "display_data"
    }
   ],
   "source": [
    "sns.barplot(data = students_by_semester_and_module, x = 'code_presentation', y = 'num_students', hue = 'code_module')"
   ]
  },
  {
   "cell_type": "markdown",
   "metadata": {},
   "source": [
    "Гипотеза: курс - сочетание двух семестров. У первого семестра на конце j, у второго - b. Это можно предположить исходя из того, что студентов j > b. Для проверки гипотезы можно посмотреть даты проведения экзаменов у студентов."
   ]
  },
  {
   "cell_type": "code",
   "execution_count": 22,
   "metadata": {},
   "outputs": [
    {
     "data": {
      "text/plain": [
       "count    968.0\n",
       "mean     261.0\n",
       "std        0.0\n",
       "min      261.0\n",
       "25%      261.0\n",
       "50%      261.0\n",
       "75%      261.0\n",
       "max      261.0\n",
       "Name: date, dtype: float64"
      ]
     },
     "execution_count": 22,
     "metadata": {},
     "output_type": "execute_result"
    }
   ],
   "source": [
    "full_assessment.query(\"assessment_type == 'Exam' and code_presentation == '2013J'\").date.describe()"
   ]
  },
  {
   "cell_type": "code",
   "execution_count": 23,
   "metadata": {},
   "outputs": [
    {
     "data": {
      "text/plain": [
       "count    0.0\n",
       "mean     NaN\n",
       "std      NaN\n",
       "min      NaN\n",
       "25%      NaN\n",
       "50%      NaN\n",
       "75%      NaN\n",
       "max      NaN\n",
       "Name: date, dtype: float64"
      ]
     },
     "execution_count": 23,
     "metadata": {},
     "output_type": "execute_result"
    }
   ],
   "source": [
    "full_assessment.query(\"assessment_type == 'Exam' and code_presentation == '2014J'\").date.describe()"
   ]
  },
  {
   "cell_type": "code",
   "execution_count": 24,
   "metadata": {},
   "outputs": [
    {
     "data": {
      "text/plain": [
       "count    602.0\n",
       "mean     240.0\n",
       "std        0.0\n",
       "min      240.0\n",
       "25%      240.0\n",
       "50%      240.0\n",
       "75%      240.0\n",
       "max      240.0\n",
       "Name: date, dtype: float64"
      ]
     },
     "execution_count": 24,
     "metadata": {},
     "output_type": "execute_result"
    }
   ],
   "source": [
    "full_assessment.query(\"assessment_type == 'Exam' and code_presentation == '2013B'\").date.describe()"
   ]
  },
  {
   "cell_type": "code",
   "execution_count": 25,
   "metadata": {},
   "outputs": [
    {
     "data": {
      "text/plain": [
       "count    524.0\n",
       "mean     241.0\n",
       "std        0.0\n",
       "min      241.0\n",
       "25%      241.0\n",
       "50%      241.0\n",
       "75%      241.0\n",
       "max      241.0\n",
       "Name: date, dtype: float64"
      ]
     },
     "execution_count": 25,
     "metadata": {},
     "output_type": "execute_result"
    }
   ],
   "source": [
    "full_assessment.query(\"assessment_type == 'Exam' and code_presentation == '2014B'\").date.describe()"
   ]
  },
  {
   "cell_type": "markdown",
   "metadata": {},
   "source": [
    "Посмотрев на дату сдачи экзамена можно сделать вывод, что все-таки курс состоит из двух модулей, но первым является летний (B, экзамен проводится рваньше), второй - зимний(j, экзамен проводится позже). Интересно, что количество студентов и регистраций с продвижением по учебе не уменьшается, а увеличивается. Можно предположить, что на курсе нестрогий набор и люди могут присоединиться посреди обучения."
   ]
  },
  {
   "cell_type": "markdown",
   "metadata": {},
   "source": [
    "# Сколько студентов успешно сдали только один курс? (Успешная сдача — это зачёт по курсу на экзамене).\n",
    "\n",
    "Для решения этого пункта определю какие экзамены нужно заканчивать в конце каждого модуля (И, соответственно, курса)"
   ]
  },
  {
   "cell_type": "code",
   "execution_count": 26,
   "metadata": {},
   "outputs": [],
   "source": [
    "#Теперь хочется понять какое количество экзаменов сдали студенты в семестре с разбивкой по предмету(модулю). \n",
    "\n",
    "exams_passed = (full_assessment.query(\"assessment_type =='Exam'\") \n",
    "                                   .groupby(['code_presentation', 'code_module'],as_index = False)\n",
    "                                   .agg(exams_count = ('assessment_type', 'nunique'))\n",
    "                                   .sort_values('code_presentation', ascending = False))"
   ]
  },
  {
   "cell_type": "code",
   "execution_count": 27,
   "metadata": {},
   "outputs": [
    {
     "data": {
      "text/plain": [
       "<matplotlib.axes._subplots.AxesSubplot at 0x7f5a5087bbe0>"
      ]
     },
     "execution_count": 27,
     "metadata": {},
     "output_type": "execute_result"
    },
    {
     "data": {
      "image/png": "[encoded data removed]",
      "text/plain": [
       "<Figure size 842.4x595.44 with 1 Axes>"
      ]
     },
     "metadata": {},
     "output_type": "display_data"
    }
   ],
   "source": [
    "#Визуализирую полученную информацию\n",
    "sns.set(rc={'figure.figsize':(11.7,8.27)})\n",
    "sns.barplot(data = exams_passed,x = 'code_presentation', y = 'exams_count', hue = 'code_module')"
   ]
  },
  {
   "cell_type": "code",
   "execution_count": 28,
   "metadata": {},
   "outputs": [],
   "source": [
    "#Теперь хочется понять какое количество экзаменов сдали студенты в семестре с разбивкой по предмету(модулю). \n",
    "\n",
    "exams_passed = (full_assessment.groupby(['code_presentation', 'code_module'],as_index = False)\n",
    "                                   .agg(exams_count = ('assessment_type', 'nunique'))\n",
    "                                   .sort_values('code_presentation', ascending = False))"
   ]
  },
  {
   "cell_type": "code",
   "execution_count": 29,
   "metadata": {},
   "outputs": [
    {
     "data": {
      "text/plain": [
       "<matplotlib.axes._subplots.AxesSubplot at 0x7f5a4f57d0b8>"
      ]
     },
     "execution_count": 29,
     "metadata": {},
     "output_type": "execute_result"
    },
    {
     "data": {
      "image/png": "[encoded data removed]",
      "text/plain": [
       "<Figure size 842.4x595.44 with 1 Axes>"
      ]
     },
     "metadata": {},
     "output_type": "display_data"
    }
   ],
   "source": [
    "#Визуализирую полученную информацию\n",
    "sns.set(rc={'figure.figsize':(11.7,8.27)})\n",
    "sns.barplot(data = exams_passed,x = 'code_presentation', y = 'exams_count', hue = 'code_module')"
   ]
  },
  {
   "cell_type": "code",
   "execution_count": 30,
   "metadata": {},
   "outputs": [],
   "source": [
    "#Смотрю на то, какие экзамены в принципе есть в семестре (И курсе, соответственно)\n",
    "exams_count =  (assessments.query(\"assessment_type =='Exam'\") #Исключу экзамены, посмотрю только промежуточные\n",
    "                                   .groupby(['code_presentation', 'code_module'],as_index = False)\n",
    "                                   .agg(exams_count = ('assessment_type', 'nunique'))\n",
    "                                   .sort_values('code_presentation', ascending = False))\n",
    "\n"
   ]
  },
  {
   "cell_type": "code",
   "execution_count": 31,
   "metadata": {},
   "outputs": [
    {
     "data": {
      "text/plain": [
       "<matplotlib.axes._subplots.AxesSubplot at 0x7f5a4f4954e0>"
      ]
     },
     "execution_count": 31,
     "metadata": {},
     "output_type": "execute_result"
    },
    {
     "data": {
      "image/png": "[encoded data removed]",
      "text/plain": [
       "<Figure size 842.4x595.44 with 1 Axes>"
      ]
     },
     "metadata": {},
     "output_type": "display_data"
    }
   ],
   "source": [
    "#Визуализирую полученную информацию\n",
    "sns.set(rc={'figure.figsize':(11.7,8.27)})\n",
    "sns.barplot(data = exams_count,x = 'code_presentation', y = 'exams_count', hue = 'code_module')"
   ]
  },
  {
   "cell_type": "markdown",
   "metadata": {},
   "source": [
    "Хмм, количество тестов в модуле сильно больше, чем студенты успели сдать. Кажется, что ни один курс пока еще полностью не закончен. "
   ]
  },
  {
   "cell_type": "code",
   "execution_count": 32,
   "metadata": {},
   "outputs": [],
   "source": [
    "exams_dates = exams_count.merge(assessments.groupby(['date', 'code_presentation', 'code_module'], as_index = False).agg({'weight':'count'})[['date', 'code_presentation', 'code_module']], how = 'left', on = ['code_presentation', 'code_module'])"
   ]
  },
  {
   "cell_type": "code",
   "execution_count": 33,
   "metadata": {},
   "outputs": [
    {
     "data": {
      "text/html": [
       "<div>\n",
       "<style scoped>\n",
       "    .dataframe tbody tr th:only-of-type {\n",
       "        vertical-align: middle;\n",
       "    }\n",
       "\n",
       "    .dataframe tbody tr th {\n",
       "        vertical-align: top;\n",
       "    }\n",
       "\n",
       "    .dataframe thead th {\n",
       "        text-align: right;\n",
       "    }\n",
       "</style>\n",
       "<table border=\"1\" class=\"dataframe\">\n",
       "  <thead>\n",
       "    <tr style=\"text-align: right;\">\n",
       "      <th></th>\n",
       "      <th>code_presentation</th>\n",
       "      <th>code_module</th>\n",
       "      <th>exams_count</th>\n",
       "      <th>date</th>\n",
       "    </tr>\n",
       "  </thead>\n",
       "  <tbody>\n",
       "    <tr>\n",
       "      <th>44</th>\n",
       "      <td>2014B</td>\n",
       "      <td>GGG</td>\n",
       "      <td>1</td>\n",
       "      <td>61.0</td>\n",
       "    </tr>\n",
       "    <tr>\n",
       "      <th>45</th>\n",
       "      <td>2014B</td>\n",
       "      <td>GGG</td>\n",
       "      <td>1</td>\n",
       "      <td>117.0</td>\n",
       "    </tr>\n",
       "    <tr>\n",
       "      <th>46</th>\n",
       "      <td>2014B</td>\n",
       "      <td>GGG</td>\n",
       "      <td>1</td>\n",
       "      <td>166.0</td>\n",
       "    </tr>\n",
       "    <tr>\n",
       "      <th>47</th>\n",
       "      <td>2014B</td>\n",
       "      <td>GGG</td>\n",
       "      <td>1</td>\n",
       "      <td>222.0</td>\n",
       "    </tr>\n",
       "  </tbody>\n",
       "</table>\n",
       "</div>"
      ],
      "text/plain": [
       "   code_presentation code_module  exams_count   date\n",
       "44             2014B         GGG            1   61.0\n",
       "45             2014B         GGG            1  117.0\n",
       "46             2014B         GGG            1  166.0\n",
       "47             2014B         GGG            1  222.0"
      ]
     },
     "execution_count": 33,
     "metadata": {},
     "output_type": "execute_result"
    }
   ],
   "source": [
    "exams_dates.query(\"code_presentation == '2014B' and code_module == 'GGG'\")"
   ]
  },
  {
   "cell_type": "code",
   "execution_count": 34,
   "metadata": {},
   "outputs": [
    {
     "data": {
      "text/html": [
       "<div>\n",
       "<style scoped>\n",
       "    .dataframe tbody tr th:only-of-type {\n",
       "        vertical-align: middle;\n",
       "    }\n",
       "\n",
       "    .dataframe tbody tr th {\n",
       "        vertical-align: top;\n",
       "    }\n",
       "\n",
       "    .dataframe thead th {\n",
       "        text-align: right;\n",
       "    }\n",
       "</style>\n",
       "<table border=\"1\" class=\"dataframe\">\n",
       "  <thead>\n",
       "    <tr style=\"text-align: right;\">\n",
       "      <th></th>\n",
       "      <th>code_module</th>\n",
       "      <th>code_presentation</th>\n",
       "      <th>id_assessment</th>\n",
       "      <th>assessment_type</th>\n",
       "      <th>date</th>\n",
       "      <th>weight</th>\n",
       "    </tr>\n",
       "  </thead>\n",
       "  <tbody>\n",
       "    <tr>\n",
       "      <th>0</th>\n",
       "      <td>AAA</td>\n",
       "      <td>2013J</td>\n",
       "      <td>1752</td>\n",
       "      <td>TMA</td>\n",
       "      <td>19.0</td>\n",
       "      <td>10.0</td>\n",
       "    </tr>\n",
       "    <tr>\n",
       "      <th>1</th>\n",
       "      <td>AAA</td>\n",
       "      <td>2013J</td>\n",
       "      <td>1753</td>\n",
       "      <td>TMA</td>\n",
       "      <td>54.0</td>\n",
       "      <td>20.0</td>\n",
       "    </tr>\n",
       "    <tr>\n",
       "      <th>2</th>\n",
       "      <td>AAA</td>\n",
       "      <td>2013J</td>\n",
       "      <td>1754</td>\n",
       "      <td>TMA</td>\n",
       "      <td>117.0</td>\n",
       "      <td>20.0</td>\n",
       "    </tr>\n",
       "    <tr>\n",
       "      <th>3</th>\n",
       "      <td>AAA</td>\n",
       "      <td>2013J</td>\n",
       "      <td>1755</td>\n",
       "      <td>TMA</td>\n",
       "      <td>166.0</td>\n",
       "      <td>20.0</td>\n",
       "    </tr>\n",
       "    <tr>\n",
       "      <th>4</th>\n",
       "      <td>AAA</td>\n",
       "      <td>2013J</td>\n",
       "      <td>1756</td>\n",
       "      <td>TMA</td>\n",
       "      <td>215.0</td>\n",
       "      <td>30.0</td>\n",
       "    </tr>\n",
       "  </tbody>\n",
       "</table>\n",
       "</div>"
      ],
      "text/plain": [
       "  code_module code_presentation  id_assessment assessment_type   date  weight\n",
       "0         AAA             2013J           1752             TMA   19.0    10.0\n",
       "1         AAA             2013J           1753             TMA   54.0    20.0\n",
       "2         AAA             2013J           1754             TMA  117.0    20.0\n",
       "3         AAA             2013J           1755             TMA  166.0    20.0\n",
       "4         AAA             2013J           1756             TMA  215.0    30.0"
      ]
     },
     "execution_count": 34,
     "metadata": {},
     "output_type": "execute_result"
    }
   ],
   "source": [
    "assessments.head()"
   ]
  },
  {
   "cell_type": "raw",
   "metadata": {},
   "source": [
    "# Возможно, курс состоит не из 2 семестров,а \"семестр\" - поток, а предметы внутри этого потока - курсы. "
   ]
  },
  {
   "cell_type": "code",
   "execution_count": 35,
   "metadata": {},
   "outputs": [],
   "source": [
    "#Смотрю на какие курсы зарегистрировался студент внутри семестра \n",
    "exams_registrations =  (studentRegistration.groupby(['code_presentation', 'code_module'],as_index = False)\n",
    "                                   .agg(exams_registrations = ('date_registration', 'nunique')) \n",
    "                                   .sort_values('code_presentation', ascending = False))\n",
    "\n"
   ]
  },
  {
   "cell_type": "code",
   "execution_count": 36,
   "metadata": {},
   "outputs": [
    {
     "data": {
      "text/plain": [
       "<matplotlib.axes._subplots.AxesSubplot at 0x7f5a509f1cf8>"
      ]
     },
     "execution_count": 36,
     "metadata": {},
     "output_type": "execute_result"
    },
    {
     "data": {
      "image/png": "[encoded data removed]",
      "text/plain": [
       "<Figure size 842.4x595.44 with 1 Axes>"
      ]
     },
     "metadata": {},
     "output_type": "display_data"
    }
   ],
   "source": [
    "#Визуализирую полученную информацию\n",
    "sns.set(rc={'figure.figsize':(11.7,8.27)})\n",
    "sns.barplot(data = exams_registrations,x = 'code_presentation', y = 'exams_registrations', hue = 'code_module')"
   ]
  },
  {
   "cell_type": "markdown",
   "metadata": {},
   "source": [
    "Можно заметить, что студенты зарегистрировались на все курсы, которые оканчиваются экзаменом\n"
   ]
  },
  {
   "cell_type": "code",
   "execution_count": 37,
   "metadata": {},
   "outputs": [
    {
     "data": {
      "text/html": [
       "<div>\n",
       "<style scoped>\n",
       "    .dataframe tbody tr th:only-of-type {\n",
       "        vertical-align: middle;\n",
       "    }\n",
       "\n",
       "    .dataframe tbody tr th {\n",
       "        vertical-align: top;\n",
       "    }\n",
       "\n",
       "    .dataframe thead th {\n",
       "        text-align: right;\n",
       "    }\n",
       "</style>\n",
       "<table border=\"1\" class=\"dataframe\">\n",
       "  <thead>\n",
       "    <tr style=\"text-align: right;\">\n",
       "      <th></th>\n",
       "      <th>id_assessment</th>\n",
       "      <th>id_student</th>\n",
       "      <th>date_submitted</th>\n",
       "      <th>is_banked</th>\n",
       "      <th>score</th>\n",
       "      <th>code_module</th>\n",
       "      <th>code_presentation</th>\n",
       "      <th>assessment_type</th>\n",
       "      <th>date</th>\n",
       "      <th>weight</th>\n",
       "    </tr>\n",
       "  </thead>\n",
       "  <tbody>\n",
       "    <tr>\n",
       "      <th>0</th>\n",
       "      <td>1752</td>\n",
       "      <td>11391</td>\n",
       "      <td>18</td>\n",
       "      <td>0</td>\n",
       "      <td>78.0</td>\n",
       "      <td>AAA</td>\n",
       "      <td>2013J</td>\n",
       "      <td>TMA</td>\n",
       "      <td>19.0</td>\n",
       "      <td>10.0</td>\n",
       "    </tr>\n",
       "    <tr>\n",
       "      <th>1</th>\n",
       "      <td>1752</td>\n",
       "      <td>28400</td>\n",
       "      <td>22</td>\n",
       "      <td>0</td>\n",
       "      <td>70.0</td>\n",
       "      <td>AAA</td>\n",
       "      <td>2013J</td>\n",
       "      <td>TMA</td>\n",
       "      <td>19.0</td>\n",
       "      <td>10.0</td>\n",
       "    </tr>\n",
       "    <tr>\n",
       "      <th>2</th>\n",
       "      <td>1752</td>\n",
       "      <td>31604</td>\n",
       "      <td>17</td>\n",
       "      <td>0</td>\n",
       "      <td>72.0</td>\n",
       "      <td>AAA</td>\n",
       "      <td>2013J</td>\n",
       "      <td>TMA</td>\n",
       "      <td>19.0</td>\n",
       "      <td>10.0</td>\n",
       "    </tr>\n",
       "    <tr>\n",
       "      <th>3</th>\n",
       "      <td>1752</td>\n",
       "      <td>32885</td>\n",
       "      <td>26</td>\n",
       "      <td>0</td>\n",
       "      <td>69.0</td>\n",
       "      <td>AAA</td>\n",
       "      <td>2013J</td>\n",
       "      <td>TMA</td>\n",
       "      <td>19.0</td>\n",
       "      <td>10.0</td>\n",
       "    </tr>\n",
       "    <tr>\n",
       "      <th>4</th>\n",
       "      <td>1752</td>\n",
       "      <td>38053</td>\n",
       "      <td>19</td>\n",
       "      <td>0</td>\n",
       "      <td>79.0</td>\n",
       "      <td>AAA</td>\n",
       "      <td>2013J</td>\n",
       "      <td>TMA</td>\n",
       "      <td>19.0</td>\n",
       "      <td>10.0</td>\n",
       "    </tr>\n",
       "  </tbody>\n",
       "</table>\n",
       "</div>"
      ],
      "text/plain": [
       "   id_assessment  id_student  date_submitted  is_banked  score code_module  \\\n",
       "0           1752       11391              18          0   78.0         AAA   \n",
       "1           1752       28400              22          0   70.0         AAA   \n",
       "2           1752       31604              17          0   72.0         AAA   \n",
       "3           1752       32885              26          0   69.0         AAA   \n",
       "4           1752       38053              19          0   79.0         AAA   \n",
       "\n",
       "  code_presentation assessment_type  date  weight  \n",
       "0             2013J             TMA  19.0    10.0  \n",
       "1             2013J             TMA  19.0    10.0  \n",
       "2             2013J             TMA  19.0    10.0  \n",
       "3             2013J             TMA  19.0    10.0  \n",
       "4             2013J             TMA  19.0    10.0  "
      ]
     },
     "execution_count": 37,
     "metadata": {},
     "output_type": "execute_result"
    }
   ],
   "source": [
    "full_assessment.head()"
   ]
  },
  {
   "cell_type": "code",
   "execution_count": 38,
   "metadata": {},
   "outputs": [],
   "source": [
    "#Добавляю еще одну колонку, в которую помещаю сдан экзамен или нет\n",
    "full_assessment['is_passed'] = np.where(full_assessment.score >= 40, 1, 0)"
   ]
  },
  {
   "cell_type": "code",
   "execution_count": 39,
   "metadata": {},
   "outputs": [],
   "source": [
    "successful_students = (full_assessment.query(\"assessment_type == 'Exam'\")\n",
    "                                     .groupby(['id_student', 'code_presentation', 'code_module'], as_index = False)\n",
    "                                     .agg(exam_passed = ('is_passed', 'sum'))\n",
    "                                     .sort_values('exam_passed', ascending = False))"
   ]
  },
  {
   "cell_type": "code",
   "execution_count": 40,
   "metadata": {},
   "outputs": [
    {
     "data": {
      "text/html": [
       "<div>\n",
       "<style scoped>\n",
       "    .dataframe tbody tr th:only-of-type {\n",
       "        vertical-align: middle;\n",
       "    }\n",
       "\n",
       "    .dataframe tbody tr th {\n",
       "        vertical-align: top;\n",
       "    }\n",
       "\n",
       "    .dataframe thead th {\n",
       "        text-align: right;\n",
       "    }\n",
       "</style>\n",
       "<table border=\"1\" class=\"dataframe\">\n",
       "  <thead>\n",
       "    <tr style=\"text-align: right;\">\n",
       "      <th></th>\n",
       "      <th>id_student</th>\n",
       "      <th>code_presentation</th>\n",
       "      <th>code_module</th>\n",
       "      <th>exam_passed</th>\n",
       "    </tr>\n",
       "  </thead>\n",
       "  <tbody>\n",
       "    <tr>\n",
       "      <th>0</th>\n",
       "      <td>23698</td>\n",
       "      <td>2014J</td>\n",
       "      <td>CCC</td>\n",
       "      <td>1</td>\n",
       "    </tr>\n",
       "    <tr>\n",
       "      <th>3225</th>\n",
       "      <td>623826</td>\n",
       "      <td>2014B</td>\n",
       "      <td>DDD</td>\n",
       "      <td>1</td>\n",
       "    </tr>\n",
       "    <tr>\n",
       "      <th>3243</th>\n",
       "      <td>624445</td>\n",
       "      <td>2014B</td>\n",
       "      <td>CCC</td>\n",
       "      <td>1</td>\n",
       "    </tr>\n",
       "    <tr>\n",
       "      <th>3242</th>\n",
       "      <td>624441</td>\n",
       "      <td>2014B</td>\n",
       "      <td>CCC</td>\n",
       "      <td>1</td>\n",
       "    </tr>\n",
       "    <tr>\n",
       "      <th>3241</th>\n",
       "      <td>624358</td>\n",
       "      <td>2014B</td>\n",
       "      <td>DDD</td>\n",
       "      <td>1</td>\n",
       "    </tr>\n",
       "  </tbody>\n",
       "</table>\n",
       "</div>"
      ],
      "text/plain": [
       "      id_student code_presentation code_module  exam_passed\n",
       "0          23698             2014J         CCC            1\n",
       "3225      623826             2014B         DDD            1\n",
       "3243      624445             2014B         CCC            1\n",
       "3242      624441             2014B         CCC            1\n",
       "3241      624358             2014B         DDD            1"
      ]
     },
     "execution_count": 40,
     "metadata": {},
     "output_type": "execute_result"
    }
   ],
   "source": [
    "successful_students.head()"
   ]
  },
  {
   "cell_type": "code",
   "execution_count": 41,
   "metadata": {},
   "outputs": [],
   "source": [
    "successful_students_pivot = successful_students.pivot_table(index = 'id_student', \n",
    "                                                            columns = ['code_presentation', 'code_module'],\n",
    "                                                            values= 'exam_passed', \n",
    "                                                            aggfunc=np.sum,\n",
    "                                                           margins = True, \n",
    "                                                            margins_name='Total').fillna(0).reset_index()\n",
    "                                                           \n",
    "                                                           "
   ]
  },
  {
   "cell_type": "code",
   "execution_count": 42,
   "metadata": {},
   "outputs": [
    {
     "data": {
      "text/plain": [
       "296"
      ]
     },
     "execution_count": 42,
     "metadata": {},
     "output_type": "execute_result"
    }
   ],
   "source": [
    "#Количество студентов, которые успешно сдали более одного предмета. \n",
    "successful_students_pivot[successful_students_pivot.Total > 1].id_student.count()"
   ]
  },
  {
   "cell_type": "code",
   "execution_count": null,
   "metadata": {},
   "outputs": [],
   "source": []
  },
  {
   "cell_type": "code",
   "execution_count": null,
   "metadata": {},
   "outputs": [],
   "source": []
  }
 ],
 "metadata": {
  "kernelspec": {
   "display_name": "Python 3",
   "language": "python",
   "name": "python3"
  },
  "language_info": {
   "codemirror_mode": {
    "name": "ipython",
    "version": 3
   },
   "file_extension": ".py",
   "mimetype": "text/x-python",
   "name": "python",
   "nbconvert_exporter": "python",
   "pygments_lexer": "ipython3",
   "version": "3.7.3"
  }
 },
 "nbformat": 4,
 "nbformat_minor": 4
}
